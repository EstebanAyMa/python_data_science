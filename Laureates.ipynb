{
 "cells": [
  {
   "cell_type": "code",
   "execution_count": 15,
   "id": "4c1453cd-edf6-4b48-960f-6ca2ada05a05",
   "metadata": {},
   "outputs": [],
   "source": [
    "import numpy as np\n",
    "import matplotlib.pyplot as plt\n",
    "import pandas as pd"
   ]
  },
  {
   "cell_type": "code",
   "execution_count": 16,
   "id": "6c832a8d-4c88-4c62-8785-7b9edfdfbf4b",
   "metadata": {},
   "outputs": [],
   "source": [
    "nobel = pd.read_csv(\"laureates.csv\")"
   ]
  },
  {
   "cell_type": "code",
   "execution_count": 7,
   "id": "527905a5-f935-4cf5-847b-cac45824658f",
   "metadata": {},
   "outputs": [
    {
     "data": {
      "text/html": [
       "<div>\n",
       "<style scoped>\n",
       "    .dataframe tbody tr th:only-of-type {\n",
       "        vertical-align: middle;\n",
       "    }\n",
       "\n",
       "    .dataframe tbody tr th {\n",
       "        vertical-align: top;\n",
       "    }\n",
       "\n",
       "    .dataframe thead th {\n",
       "        text-align: right;\n",
       "    }\n",
       "</style>\n",
       "<table border=\"1\" class=\"dataframe\">\n",
       "  <thead>\n",
       "    <tr style=\"text-align: right;\">\n",
       "      <th></th>\n",
       "      <th>id</th>\n",
       "      <th>firstname</th>\n",
       "      <th>surname</th>\n",
       "      <th>born</th>\n",
       "      <th>died</th>\n",
       "      <th>bornCountry</th>\n",
       "      <th>bornCountryCode</th>\n",
       "      <th>bornCity</th>\n",
       "      <th>diedCountry</th>\n",
       "      <th>diedCountryCode</th>\n",
       "      <th>diedCity</th>\n",
       "      <th>gender</th>\n",
       "      <th>year</th>\n",
       "      <th>category</th>\n",
       "      <th>overallMotivation</th>\n",
       "      <th>share</th>\n",
       "      <th>motivation</th>\n",
       "      <th>name</th>\n",
       "      <th>city</th>\n",
       "      <th>country</th>\n",
       "    </tr>\n",
       "  </thead>\n",
       "  <tbody>\n",
       "    <tr>\n",
       "      <th>190</th>\n",
       "      <td>193</td>\n",
       "      <td>Frédéric</td>\n",
       "      <td>Joliot</td>\n",
       "      <td>1900-03-19</td>\n",
       "      <td>1958-08-14</td>\n",
       "      <td>France</td>\n",
       "      <td>FR</td>\n",
       "      <td>Paris</td>\n",
       "      <td>France</td>\n",
       "      <td>FR</td>\n",
       "      <td>Paris</td>\n",
       "      <td>male</td>\n",
       "      <td>1935</td>\n",
       "      <td>chemistry</td>\n",
       "      <td>NaN</td>\n",
       "      <td>2</td>\n",
       "      <td>\"in recognition of their synthesis of new radi...</td>\n",
       "      <td>Institut du Radium</td>\n",
       "      <td>Paris</td>\n",
       "      <td>France</td>\n",
       "    </tr>\n",
       "    <tr>\n",
       "      <th>461</th>\n",
       "      <td>463</td>\n",
       "      <td>Frédéric</td>\n",
       "      <td>Passy</td>\n",
       "      <td>1822-05-20</td>\n",
       "      <td>1912-06-12</td>\n",
       "      <td>France</td>\n",
       "      <td>FR</td>\n",
       "      <td>Paris</td>\n",
       "      <td>France</td>\n",
       "      <td>FR</td>\n",
       "      <td>Paris</td>\n",
       "      <td>male</td>\n",
       "      <td>1901</td>\n",
       "      <td>peace</td>\n",
       "      <td>NaN</td>\n",
       "      <td>2</td>\n",
       "      <td>\"for his lifelong work for international peace...</td>\n",
       "      <td>NaN</td>\n",
       "      <td>NaN</td>\n",
       "      <td>NaN</td>\n",
       "    </tr>\n",
       "    <tr>\n",
       "      <th>568</th>\n",
       "      <td>573</td>\n",
       "      <td>Frédéric</td>\n",
       "      <td>Mistral</td>\n",
       "      <td>1830-09-08</td>\n",
       "      <td>1914-03-25</td>\n",
       "      <td>France</td>\n",
       "      <td>FR</td>\n",
       "      <td>Maillane</td>\n",
       "      <td>France</td>\n",
       "      <td>FR</td>\n",
       "      <td>Maillane</td>\n",
       "      <td>male</td>\n",
       "      <td>1904</td>\n",
       "      <td>literature</td>\n",
       "      <td>NaN</td>\n",
       "      <td>2</td>\n",
       "      <td>\"in recognition of the fresh originality and t...</td>\n",
       "      <td>NaN</td>\n",
       "      <td>NaN</td>\n",
       "      <td>NaN</td>\n",
       "    </tr>\n",
       "  </tbody>\n",
       "</table>\n",
       "</div>"
      ],
      "text/plain": [
       "      id firstname  surname        born        died bornCountry  \\\n",
       "190  193  Frédéric   Joliot  1900-03-19  1958-08-14      France   \n",
       "461  463  Frédéric    Passy  1822-05-20  1912-06-12      France   \n",
       "568  573  Frédéric  Mistral  1830-09-08  1914-03-25      France   \n",
       "\n",
       "    bornCountryCode  bornCity diedCountry diedCountryCode  diedCity gender  \\\n",
       "190              FR     Paris      France              FR     Paris   male   \n",
       "461              FR     Paris      France              FR     Paris   male   \n",
       "568              FR  Maillane      France              FR  Maillane   male   \n",
       "\n",
       "     year    category overallMotivation  share  \\\n",
       "190  1935   chemistry               NaN      2   \n",
       "461  1901       peace               NaN      2   \n",
       "568  1904  literature               NaN      2   \n",
       "\n",
       "                                            motivation                name  \\\n",
       "190  \"in recognition of their synthesis of new radi...  Institut du Radium   \n",
       "461  \"for his lifelong work for international peace...                 NaN   \n",
       "568  \"in recognition of the fresh originality and t...                 NaN   \n",
       "\n",
       "      city country  \n",
       "190  Paris  France  \n",
       "461    NaN     NaN  \n",
       "568    NaN     NaN  "
      ]
     },
     "execution_count": 7,
     "metadata": {},
     "output_type": "execute_result"
    }
   ],
   "source": [
    "nobel[nobel[\"firstname\"] == \"Frédéric\"]"
   ]
  },
  {
   "cell_type": "code",
   "execution_count": 11,
   "id": "18a11b86-fcd0-4b9c-a514-64a3b5e4270f",
   "metadata": {},
   "outputs": [
    {
     "data": {
      "text/plain": [
       "220    chemistry\n",
       "221    chemistry\n",
       "Name: category, dtype: object"
      ]
     },
     "execution_count": 11,
     "metadata": {},
     "output_type": "execute_result"
    }
   ],
   "source": [
    "nobel[nobel[\"surname\"] == \"Sanger\"][\"category\"]"
   ]
  },
  {
   "cell_type": "code",
   "execution_count": 17,
   "id": "6a1a3eb7-6a76-47ac-b350-29b302631f30",
   "metadata": {},
   "outputs": [
    {
     "data": {
      "image/png": "[encoded data removed]",
      "text/plain": [
       "<Figure size 640x480 with 4 Axes>"
      ]
     },
     "metadata": {},
     "output_type": "display_data"
    }
   ],
   "source": [
    "nobel.hist()\n",
    "plt.show()"
   ]
  },
  {
   "cell_type": "code",
   "execution_count": null,
   "id": "1395e659-86a2-40ce-a1c4-af0744173a44",
   "metadata": {},
   "outputs": [],
   "source": []
  }
 ],
 "metadata": {
  "kernelspec": {
   "display_name": "Python 3 (ipykernel)",
   "language": "python",
   "name": "python3"
  },
  "language_info": {
   "codemirror_mode": {
    "name": "ipython",
    "version": 3
   },
   "file_extension": ".py",
   "mimetype": "text/x-python",
   "name": "python",
   "nbconvert_exporter": "python",
   "pygments_lexer": "ipython3",
   "version": "3.11.3"
  }
 },
 "nbformat": 4,
 "nbformat_minor": 5
}
