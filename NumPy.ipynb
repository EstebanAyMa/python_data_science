{
 "cells": [
  {
   "cell_type": "code",
   "execution_count": 1,
   "id": "f9e71551-6dab-4567-8f0d-59c157a136d9",
   "metadata": {},
   "outputs": [],
   "source": [
    "import numpy as np"
   ]
  },
  {
   "cell_type": "code",
   "execution_count": 2,
   "id": "cb0b6a71-f9dc-476f-a169-bc62303e4932",
   "metadata": {},
   "outputs": [
    {
     "ename": "ValueError",
     "evalue": "cannot reshape array of size 16 into shape (4,17)",
     "output_type": "error",
     "traceback": [
      "\u001b[0;31m---------------------------------------------------------------------------\u001b[0m",
      "\u001b[0;31mValueError\u001b[0m                                Traceback (most recent call last)",
      "Cell \u001b[0;32mIn[2], line 1\u001b[0m\n\u001b[0;32m----> 1\u001b[0m \u001b[43mnp\u001b[49m\u001b[38;5;241;43m.\u001b[39;49m\u001b[43marange\u001b[49m\u001b[43m(\u001b[49m\u001b[38;5;241;43m16\u001b[39;49m\u001b[43m)\u001b[49m\u001b[38;5;241;43m.\u001b[39;49m\u001b[43mreshape\u001b[49m\u001b[43m(\u001b[49m\u001b[43m(\u001b[49m\u001b[38;5;241;43m4\u001b[39;49m\u001b[43m,\u001b[49m\u001b[43m \u001b[49m\u001b[38;5;241;43m17\u001b[39;49m\u001b[43m)\u001b[49m\u001b[43m)\u001b[49m\n",
      "\u001b[0;31mValueError\u001b[0m: cannot reshape array of size 16 into shape (4,17)"
     ]
    }
   ],
   "source": [
    "np.arange(16).reshape((4, 17))"
   ]
  },
  {
   "cell_type": "code",
   "execution_count": 4,
   "id": "260e9497-84f9-49be-9140-62bed591c3d2",
   "metadata": {},
   "outputs": [
    {
     "data": {
      "text/plain": [
       "array([[0.22103585, 0.92197555, 0.3003186 , 0.35680259, 0.6100676 ],\n",
       "       [0.01195654, 0.21069493, 0.58537587, 0.68543667, 0.16810581],\n",
       "       [0.06207437, 0.04127033, 0.66011665, 0.96734124, 0.43789256],\n",
       "       [0.84743175, 0.32199156, 0.8416526 , 0.38007878, 0.05372884],\n",
       "       [0.81317082, 0.54401179, 0.3165273 , 0.24228716, 0.50496581]])"
      ]
     },
     "execution_count": 4,
     "metadata": {},
     "output_type": "execute_result"
    }
   ],
   "source": [
    "A = np.random.rand(5, 5)\n",
    "A"
   ]
  },
  {
   "cell_type": "code",
   "execution_count": 6,
   "id": "e253f2d3-0b30-43e4-b872-3423fa232c5d",
   "metadata": {},
   "outputs": [
    {
     "data": {
      "text/plain": [
       "array([[-2.19308695,  3.44643506, -1.93734784, -1.34561442,  3.32540146],\n",
       "       [-0.32285033,  4.57571032, -3.0126913 , -1.31323714,  1.61902219],\n",
       "       [ 3.9501927 , -9.22571429,  4.767281  ,  4.84448026, -6.35059548],\n",
       "       [-4.05771137, 10.22646224, -4.46519538, -4.35644655,  5.83345072],\n",
       "       [ 3.3502788 , -9.60328559,  5.51961976,  2.6352907 , -3.93713782]])"
      ]
     },
     "execution_count": 6,
     "metadata": {},
     "output_type": "execute_result"
    }
   ],
   "source": [
    "Ainv = np.linalg.inv(A)\n",
    "Ainv"
   ]
  },
  {
   "cell_type": "code",
   "execution_count": 8,
   "id": "302686d4-cd55-4587-a875-0618be16f90c",
   "metadata": {},
   "outputs": [
    {
     "data": {
      "text/plain": [
       "array([[1., 0., 0., 0., 0.],\n",
       "       [0., 1., 0., 0., 0.],\n",
       "       [0., 0., 1., 0., 0.],\n",
       "       [0., 0., 0., 1., 0.],\n",
       "       [0., 0., 0., 0., 1.]])"
      ]
     },
     "execution_count": 8,
     "metadata": {},
     "output_type": "execute_result"
    }
   ],
   "source": [
    "Inv = A @ Ainv\n",
    "Inv[np.isclose(Inv, 0)] = 0\n",
    "Inv"
   ]
  },
  {
   "cell_type": "code",
   "execution_count": 10,
   "id": "b942669e-d371-4863-b7b5-16117f1e9203",
   "metadata": {},
   "outputs": [
    {
     "data": {
      "text/plain": [
       "(5, 5)"
      ]
     },
     "execution_count": 10,
     "metadata": {},
     "output_type": "execute_result"
    }
   ],
   "source": [
    "Inv.shape"
   ]
  },
  {
   "cell_type": "code",
   "execution_count": null,
   "id": "1993ac6e-5b7e-43f4-932f-a7ecc86e810a",
   "metadata": {},
   "outputs": [],
   "source": []
  }
 ],
 "metadata": {
  "kernelspec": {
   "display_name": "Python 3 (ipykernel)",
   "language": "python",
   "name": "python3"
  },
  "language_info": {
   "codemirror_mode": {
    "name": "ipython",
    "version": 3
   },
   "file_extension": ".py",
   "mimetype": "text/x-python",
   "name": "python",
   "nbconvert_exporter": "python",
   "pygments_lexer": "ipython3",
   "version": "3.11.3"
  }
 },
 "nbformat": 4,
 "nbformat_minor": 5
}
