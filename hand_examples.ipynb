{
 "cells": [
  {
   "cell_type": "code",
   "execution_count": 5,
   "id": "ad5b2f23-1794-4a23-aac5-ba14ee53734d",
   "metadata": {},
   "outputs": [],
   "source": [
    "from math import tau\n",
    "import numpy as np\n",
    "import matplotlib.pyplot as plt\n",
    "from numpy.random import default_rng\n",
    "import pandas as pd"
   ]
  },
  {
   "cell_type": "code",
   "execution_count": 6,
   "id": "09866c77-3d04-4cef-8cf1-f7ae8ade8ede",
   "metadata": {},
   "outputs": [
    {
     "data": {
      "text/html": [
       "<div>\n",
       "<style scoped>\n",
       "    .dataframe tbody tr th:only-of-type {\n",
       "        vertical-align: middle;\n",
       "    }\n",
       "\n",
       "    .dataframe tbody tr th {\n",
       "        vertical-align: top;\n",
       "    }\n",
       "\n",
       "    .dataframe thead th {\n",
       "        text-align: right;\n",
       "    }\n",
       "</style>\n",
       "<table border=\"1\" class=\"dataframe\">\n",
       "  <thead>\n",
       "    <tr style=\"text-align: right;\">\n",
       "      <th></th>\n",
       "      <th>Number</th>\n",
       "      <th>String</th>\n",
       "      <th>Angles</th>\n",
       "      <th>Random</th>\n",
       "      <th>Timestamp</th>\n",
       "      <th>Size</th>\n",
       "    </tr>\n",
       "  </thead>\n",
       "  <tbody>\n",
       "    <tr>\n",
       "      <th>0</th>\n",
       "      <td>1.0</td>\n",
       "      <td>foo</td>\n",
       "      <td>0.000000</td>\n",
       "      <td>-1.012803</td>\n",
       "      <td>2022-10-20</td>\n",
       "      <td>tiny</td>\n",
       "    </tr>\n",
       "    <tr>\n",
       "      <th>1</th>\n",
       "      <td>1.0</td>\n",
       "      <td>foo</td>\n",
       "      <td>1.570796</td>\n",
       "      <td>-0.164810</td>\n",
       "      <td>2022-10-20</td>\n",
       "      <td>small</td>\n",
       "    </tr>\n",
       "    <tr>\n",
       "      <th>2</th>\n",
       "      <td>1.0</td>\n",
       "      <td>foo</td>\n",
       "      <td>3.141593</td>\n",
       "      <td>2.084318</td>\n",
       "      <td>2022-10-20</td>\n",
       "      <td>mid</td>\n",
       "    </tr>\n",
       "    <tr>\n",
       "      <th>3</th>\n",
       "      <td>1.0</td>\n",
       "      <td>foo</td>\n",
       "      <td>4.712389</td>\n",
       "      <td>0.523982</td>\n",
       "      <td>2022-10-20</td>\n",
       "      <td>big</td>\n",
       "    </tr>\n",
       "    <tr>\n",
       "      <th>4</th>\n",
       "      <td>1.0</td>\n",
       "      <td>foo</td>\n",
       "      <td>6.283185</td>\n",
       "      <td>-2.120702</td>\n",
       "      <td>2022-10-20</td>\n",
       "      <td>huge</td>\n",
       "    </tr>\n",
       "  </tbody>\n",
       "</table>\n",
       "</div>"
      ],
      "text/plain": [
       "   Number String    Angles    Random  Timestamp   Size\n",
       "0     1.0    foo  0.000000 -1.012803 2022-10-20   tiny\n",
       "1     1.0    foo  1.570796 -0.164810 2022-10-20  small\n",
       "2     1.0    foo  3.141593  2.084318 2022-10-20    mid\n",
       "3     1.0    foo  4.712389  0.523982 2022-10-20    big\n",
       "4     1.0    foo  6.283185 -2.120702 2022-10-20   huge"
      ]
     },
     "execution_count": 6,
     "metadata": {},
     "output_type": "execute_result"
    }
   ],
   "source": [
    "rng = default_rng()\n",
    "df = pd.DataFrame(\n",
    "    {\n",
    "        \"Number\": 1.0,\n",
    "        \"String\": \"foo\",\n",
    "        \"Angles\": np.linspace(0, tau, 5),\n",
    "        \"Random\": pd.Series(rng.standard_normal(5)),\n",
    "        \"Timestamp\": pd.Timestamp(\"20221020\"),\n",
    "        \"Size\": pd.Categorical([\"tiny\", \"small\", \"mid\", \"big\", \"huge\"])\n",
    "    })\n",
    "df"
   ]
  },
  {
   "cell_type": "code",
   "execution_count": 7,
   "id": "a70c6708-2575-486c-b934-df9deb4a9728",
   "metadata": {},
   "outputs": [
    {
     "name": "stdout",
     "output_type": "stream",
     "text": [
      "<class 'pandas.core.frame.DataFrame'>\n",
      "RangeIndex: 5 entries, 0 to 4\n",
      "Data columns (total 6 columns):\n",
      " #   Column     Non-Null Count  Dtype         \n",
      "---  ------     --------------  -----         \n",
      " 0   Number     5 non-null      float64       \n",
      " 1   String     5 non-null      object        \n",
      " 2   Angles     5 non-null      float64       \n",
      " 3   Random     5 non-null      float64       \n",
      " 4   Timestamp  5 non-null      datetime64[ns]\n",
      " 5   Size       5 non-null      category      \n",
      "dtypes: category(1), datetime64[ns](1), float64(3), object(1)\n",
      "memory usage: 549.0+ bytes\n"
     ]
    }
   ],
   "source": [
    "df.info()"
   ]
  },
  {
   "cell_type": "code",
   "execution_count": null,
   "id": "cd15b8d9-dba0-4587-aecc-e7abe0b26c19",
   "metadata": {},
   "outputs": [],
   "source": []
  }
 ],
 "metadata": {
  "kernelspec": {
   "display_name": "Python 3 (ipykernel)",
   "language": "python",
   "name": "python3"
  },
  "language_info": {
   "codemirror_mode": {
    "name": "ipython",
    "version": 3
   },
   "file_extension": ".py",
   "mimetype": "text/x-python",
   "name": "python",
   "nbconvert_exporter": "python",
   "pygments_lexer": "ipython3",
   "version": "3.11.3"
  }
 },
 "nbformat": 4,
 "nbformat_minor": 5
}
